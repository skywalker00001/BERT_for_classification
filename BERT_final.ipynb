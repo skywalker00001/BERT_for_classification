{
 "cells": [
  {
   "cell_type": "code",
   "execution_count": null,
   "metadata": {
    "id": "_H2GrZmCzX_F"
   },
   "outputs": [],
   "source": [
    ""
   ]
  },
  {
   "cell_type": "markdown",
   "metadata": {
    "id": "2Bgiq_D7pCIV"
   },
   "source": [
    "### Coursework coding instructions \n",
    "\n",
    "For the task you can choose to expand on baseline 1 or baseline 2 or add your own method. You can also expand on the pre-processing, feature extraction and data analysis\n",
    "\n",
    "#### Running your code:\n",
    "  - Your models should run automatically when running your colab file without further intervention\n",
    "  - For each task you should automatically output the performance of both models\n",
    "  - Your code should automatically download any libraries required\n",
    "\n",
    "#### Structure of your code:\n",
    "  - You are expected to use the 'train', 'eval' and 'model_performance' functions, although you may edit these as required\n",
    "  - Otherwise there are no restrictions on what you can do in your code\n",
    "\n",
    "#### Documentation:\n",
    "  - You are expected to produce a .README section in this file summarising how you have approached both tasks\n",
    "\n",
    "#### Reproducibility:\n",
    "  - Your .README file should explain how to replicate the different experiments mentioned in your report\n",
    "\n",
    "Good luck! We are really looking forward to seeing your reports and your model code!"
   ]
  },
  {
   "cell_type": "markdown",
   "metadata": {
    "id": "CnHjtKCajZig"
   },
   "source": [
    "# BERT training"
   ]
  },
  {
   "cell_type": "code",
   "execution_count": 1,
   "metadata": {
    "id": "opHyUvBajrvd"
   },
   "outputs": [],
   "source": [
    "# Imports\n",
    "\n",
    "import torch\n",
    "import torch.nn as nn\n",
    "import pandas as pd\n",
    "import numpy as np\n",
    "from sklearn.feature_extraction.text import CountVectorizer\n",
    "from torch.utils.data import Dataset, random_split\n",
    "from sklearn.feature_extraction.text import TfidfTransformer\n",
    "from sklearn.model_selection import train_test_split\n",
    "from sklearn.naive_bayes import MultinomialNB\n",
    "import torch.optim as optim\n",
    "import codecs\n",
    "import tqdm\n",
    "import torch.nn.functional as F"
   ]
  },
  {
   "cell_type": "code",
   "execution_count": 2,
   "metadata": {
    "colab": {
     "base_uri": "https://localhost:8080/"
    },
    "id": "rStrO17dmmfb",
    "outputId": "08b536e0-ce58-40e9-b96b-cd6e4fd9450f"
   },
   "outputs": [
    {
     "name": "stdout",
     "output_type": "stream",
     "text": [
      "Collecting transformers\n",
      "\u001b[?25l  Downloading https://files.pythonhosted.org/packages/81/91/61d69d58a1af1bd81d9ca9d62c90a6de3ab80d77f27c5df65d9a2c1f5626/transformers-4.5.0-py3-none-any.whl (2.1MB)\n",
      "\u001b[K     |████████████████████████████████| 2.2MB 8.8MB/s \n",
      "\u001b[?25hRequirement already satisfied: importlib-metadata; python_version < \"3.8\" in /usr/local/lib/python3.7/dist-packages (from transformers) (3.8.1)\n",
      "Collecting sacremoses\n",
      "\u001b[?25l  Downloading https://files.pythonhosted.org/packages/08/cd/342e584ee544d044fb573ae697404ce22ede086c9e87ce5960772084cad0/sacremoses-0.0.44.tar.gz (862kB)\n",
      "\u001b[K     |████████████████████████████████| 870kB 26.1MB/s \n",
      "\u001b[?25hRequirement already satisfied: regex!=2019.12.17 in /usr/local/lib/python3.7/dist-packages (from transformers) (2019.12.20)\n",
      "Collecting tokenizers<0.11,>=0.10.1\n",
      "\u001b[?25l  Downloading https://files.pythonhosted.org/packages/ae/04/5b870f26a858552025a62f1649c20d29d2672c02ff3c3fb4c688ca46467a/tokenizers-0.10.2-cp37-cp37m-manylinux2010_x86_64.whl (3.3MB)\n",
      "\u001b[K     |████████████████████████████████| 3.3MB 44.7MB/s \n",
      "\u001b[?25hRequirement already satisfied: numpy>=1.17 in /usr/local/lib/python3.7/dist-packages (from transformers) (1.19.5)\n",
      "Requirement already satisfied: requests in /usr/local/lib/python3.7/dist-packages (from transformers) (2.23.0)\n",
      "Requirement already satisfied: filelock in /usr/local/lib/python3.7/dist-packages (from transformers) (3.0.12)\n",
      "Requirement already satisfied: tqdm>=4.27 in /usr/local/lib/python3.7/dist-packages (from transformers) (4.41.1)\n",
      "Requirement already satisfied: packaging in /usr/local/lib/python3.7/dist-packages (from transformers) (20.9)\n",
      "Requirement already satisfied: zipp>=0.5 in /usr/local/lib/python3.7/dist-packages (from importlib-metadata; python_version < \"3.8\"->transformers) (3.4.1)\n",
      "Requirement already satisfied: typing-extensions>=3.6.4; python_version < \"3.8\" in /usr/local/lib/python3.7/dist-packages (from importlib-metadata; python_version < \"3.8\"->transformers) (3.7.4.3)\n",
      "Requirement already satisfied: six in /usr/local/lib/python3.7/dist-packages (from sacremoses->transformers) (1.15.0)\n",
      "Requirement already satisfied: click in /usr/local/lib/python3.7/dist-packages (from sacremoses->transformers) (7.1.2)\n",
      "Requirement already satisfied: joblib in /usr/local/lib/python3.7/dist-packages (from sacremoses->transformers) (1.0.1)\n",
      "Requirement already satisfied: chardet<4,>=3.0.2 in /usr/local/lib/python3.7/dist-packages (from requests->transformers) (3.0.4)\n",
      "Requirement already satisfied: idna<3,>=2.5 in /usr/local/lib/python3.7/dist-packages (from requests->transformers) (2.10)\n",
      "Requirement already satisfied: certifi>=2017.4.17 in /usr/local/lib/python3.7/dist-packages (from requests->transformers) (2020.12.5)\n",
      "Requirement already satisfied: urllib3!=1.25.0,!=1.25.1,<1.26,>=1.21.1 in /usr/local/lib/python3.7/dist-packages (from requests->transformers) (1.24.3)\n",
      "Requirement already satisfied: pyparsing>=2.0.2 in /usr/local/lib/python3.7/dist-packages (from packaging->transformers) (2.4.7)\n",
      "Building wheels for collected packages: sacremoses\n",
      "  Building wheel for sacremoses (setup.py) ... \u001b[?25l\u001b[?25hdone\n",
      "  Created wheel for sacremoses: filename=sacremoses-0.0.44-cp37-none-any.whl size=886084 sha256=a80c0ec659dfe001924fa62f7f2929386dc5ca5acaa4a50ee1c6f0f707ebf3d2\n",
      "  Stored in directory: /root/.cache/pip/wheels/3e/fb/c0/13ab4d63d537658f448366744654323077c4d90069b6512f3c\n",
      "Successfully built sacremoses\n",
      "Installing collected packages: sacremoses, tokenizers, transformers\n",
      "Successfully installed sacremoses-0.0.44 tokenizers-0.10.2 transformers-4.5.0\n"
     ]
    }
   ],
   "source": [
    "!pip install transformers"
   ]
  },
  {
   "cell_type": "markdown",
   "metadata": {
    "id": "l_usW4SZkH9_"
   },
   "source": [
    "## Load Tokenizer from BERT"
   ]
  },
  {
   "cell_type": "code",
   "execution_count": 3,
   "metadata": {
    "colab": {
     "base_uri": "https://localhost:8080/",
     "height": 167.0,
     "referenced_widgets": [
      "5f37234c991f4d3b9d3669de09227774",
      "8c7963f5aba84a2aabe2c09205eb2902",
      "026b1ee2f73547279a283d020c0392d9",
      "498adc52fa7743c3a32ffaf7f732f922",
      "a91ce6fa3ced4a87904ed8079d80afe6",
      "4ed273b02b6f41889ce180c213a75976",
      "599a4c9dcd94443e8af3ec33c3fcb924",
      "c91a2d8bc4da4456a38e414bfb14457b",
      "b448a556e46b4ad5b7a64c4c10887475",
      "39471376437f46f3bdee70637e6a7a4d",
      "d2af5916fa6e42ee9f1df818666ef230",
      "f51d67e81dcb478399d21b0f62512bcb",
      "2300fb5b21af4bde95fb94932806f2d4",
      "64ab78d981834b3c809b68ab447a6ff9",
      "14ec7167e1b34fcfb3c2d5f85850d0c4",
      "027f6a5155fb4195b63dafe50663d858",
      "b3158c257f9b4b779abc2feba17847a0",
      "a7e0f92794ba449fba79cc79b1c3919a",
      "177b69c7dde54698881c7e465cbe7f9d",
      "7cc4ae65f97549bb856fd3d1bae13e9a",
      "16f5a1f5b6dd4ac4bd381811a82be838",
      "c4be0cc6f7624a31adeda286b55de2c6",
      "98310283ddbd4aa1856c3bc5845b73fa",
      "42457ac9890749ad830054801fa158f3"
     ]
    },
    "id": "rWhMfYQTmSy3",
    "outputId": "ee7b16dd-d146-4a4c-c294-dd14f455ce56"
   },
   "outputs": [
    {
     "data": {
      "text/plain": [
       "HBox(children=(FloatProgress(value=0.0, description='Downloading', max=213450.0, style=ProgressStyle(descripti…"
      ]
     },
     "metadata": {
      "tags": []
     },
     "output_type": "display_data"
    },
    {
     "name": "stdout",
     "output_type": "stream",
     "text": [
      "\n"
     ]
    },
    {
     "data": {
      "text/plain": [
       "HBox(children=(FloatProgress(value=0.0, description='Downloading', max=29.0, style=ProgressStyle(description_w…"
      ]
     },
     "metadata": {
      "tags": []
     },
     "output_type": "display_data"
    },
    {
     "name": "stdout",
     "output_type": "stream",
     "text": [
      "\n"
     ]
    },
    {
     "data": {
      "text/plain": [
       "HBox(children=(FloatProgress(value=0.0, description='Downloading', max=435797.0, style=ProgressStyle(descripti…"
      ]
     },
     "metadata": {
      "tags": []
     },
     "output_type": "display_data"
    },
    {
     "name": "stdout",
     "output_type": "stream",
     "text": [
      "\n"
     ]
    }
   ],
   "source": [
    "from transformers import BertTokenizer, BertModel, BertForSequenceClassification\n",
    "\n",
    "PRETRAINED_MODEL_NAME = \"bert-base-cased\"  # 指定預訓練模型\n",
    "\n",
    "# 取得此預訓練模型所使用的 tokenizer\n",
    "tokenizer = BertTokenizer.from_pretrained(PRETRAINED_MODEL_NAME)"
   ]
  },
  {
   "cell_type": "code",
   "execution_count": 4,
   "metadata": {
    "id": "XSzR1hKvl3kT"
   },
   "outputs": [],
   "source": [
    "# Setting random seed and device\n",
    "SEED = 1\n",
    "\n",
    "torch.manual_seed(SEED)\n",
    "torch.cuda.manual_seed(SEED)\n",
    "torch.backends.cudnn.deterministic = True\n",
    "\n",
    "use_cuda = torch.cuda.is_available()\n",
    "device = torch.device(\"cuda:0\" if use_cuda else \"cpu\")"
   ]
  },
  {
   "cell_type": "code",
   "execution_count": 5,
   "metadata": {
    "colab": {
     "base_uri": "https://localhost:8080/"
    },
    "id": "nwtYpNnul8nB",
    "outputId": "fe15ba53-b551-454e-e0ca-5a90f4c89389"
   },
   "outputs": [
    {
     "name": "stdout",
     "output_type": "stream",
     "text": [
      "字典大小： 28996\n"
     ]
    }
   ],
   "source": [
    "vocab = tokenizer.vocab\n",
    "print(\"字典大小：\", len(vocab))"
   ]
  },
  {
   "cell_type": "code",
   "execution_count": 6,
   "metadata": {
    "colab": {
     "base_uri": "https://localhost:8080/"
    },
    "id": "4PCcF5r8QL9b",
    "outputId": "a016036e-a2d3-4d09-8a1a-7f2bb6c48eda"
   },
   "outputs": [
    {
     "name": "stdout",
     "output_type": "stream",
     "text": [
      "('We', 1284)\n",
      "('centre', 2642)\n",
      "('Centre', 2961)\n",
      "('Bush', 6096)\n"
     ]
    }
   ],
   "source": [
    "wds = ['centre', 'bragg', 'Bush', 'Centre', 'We']\n",
    "some_pairs = [(t, idx) for t, idx in vocab.items() if t in wds]\n",
    "for pair in some_pairs:\n",
    "    print(pair)"
   ]
  },
  {
   "cell_type": "code",
   "execution_count": 7,
   "metadata": {
    "colab": {
     "base_uri": "https://localhost:8080/"
    },
    "id": "326w1rrcmzHm",
    "outputId": "4c90b260-b466-485f-de46-0e3119dd9364"
   },
   "outputs": [
    {
     "name": "stdout",
     "output_type": "stream",
     "text": [
      "token               index          \n",
      "-------------------------\n",
      "technical            4301\n",
      "plantation          12739\n",
      "Dom                 16727\n",
      "labor                5530\n",
      "hadn                 2018\n",
      "Nicole               9628\n",
      "##eera              27472\n",
      "Happy                8325\n",
      "ineligible          25311\n",
      "Kennedy              5107\n"
     ]
    }
   ],
   "source": [
    "# 查看tokens及其对应索引\n",
    "import random\n",
    "random_tokens = random.sample(list(vocab), 10)\n",
    "random_ids = [vocab[t] for t in random_tokens]\n",
    "\n",
    "print(\"{0:20}{1:15}\".format(\"token\", \"index\"))\n",
    "print(\"-\" * 25)\n",
    "for t, id in zip(random_tokens, random_ids):\n",
    "    print(\"{0:15}{1:10}\".format(t, id))"
   ]
  },
  {
   "cell_type": "code",
   "execution_count": 8,
   "metadata": {
    "id": "yrsEwuSTm_oP"
   },
   "outputs": [],
   "source": [
    "import os\n",
    "import pandas as pd\n",
    "import re"
   ]
  },
  {
   "cell_type": "markdown",
   "metadata": {
    "id": "Adds6Q0IjG2p"
   },
   "source": [
    "## Read data"
   ]
  },
  {
   "cell_type": "code",
   "execution_count": 9,
   "metadata": {
    "colab": {
     "base_uri": "https://localhost:8080/"
    },
    "id": "UTbYakM3wy1F",
    "outputId": "a7259d7f-1b9f-4279-9e3e-057e1110b606"
   },
   "outputs": [
    {
     "name": "stdout",
     "output_type": "stream",
     "text": [
      "Finished writing to train_processed.csv\n",
      "Finished writing to dev_processed.csv\n",
      "Finished writing to test_processed.csv\n"
     ]
    }
   ],
   "source": [
    "# 预处理数据\n",
    "def process_data(file_name):\n",
    "  assert file_name in [\"train\", \"dev\", \"test\"]\n",
    "  df = pd.read_csv(file_name + \".csv\")\n",
    "\n",
    "  #print(len(df))\n",
    "  re_pat = re.compile(r'<(.*?)/>') # 正则表达式，匹配<.../>内的内容，等待被替换\n",
    "  text_a, text_b = [], []\n",
    "\n",
    "  for i in range(len(df)):\n",
    "    text_a.append(re.sub(re_pat, df.loc[i, 'edit1'], df.loc[i, 'original1']))\n",
    "    text_b.append(re.sub(re_pat, df.loc[i, 'edit2'], df.loc[i, 'original2']))\n",
    "\n",
    "  df_processed = df.loc[:, ['id', 'label']]\n",
    "  df_processed.insert(1, 'text_a', text_a) \n",
    "  df_processed.insert(2, 'text_b', text_b)\n",
    "\n",
    "  # 去除label=0数据\n",
    "  #if file_name in [\"train\", \"dev\"]:\n",
    "  df_processed = df_processed[~df.label.isin([0])]\n",
    "  # 所有label = label - 1\n",
    "  df_processed['label'] = df.label.apply(lambda x: x - 1)\n",
    "\n",
    "  #print(df_processed.head(5))\n",
    "  df_processed.to_csv(file_name + \"_processed.csv\", index=False)\n",
    "  print(\"Finished writing to {}_processed.csv\".format(file_name))\n",
    "\n",
    "\n",
    "\n",
    "files = [\"train\", \"dev\", \"test\"]\n",
    "for f in files:\n",
    "  process_data(f)"
   ]
  },
  {
   "cell_type": "code",
   "execution_count": 10,
   "metadata": {
    "id": "sQnT9sN5dW-F"
   },
   "outputs": [],
   "source": [
    "# 数据可视化\n",
    "df_train = pd.read_csv(\"train_processed.csv\").fillna(\"\")\n",
    "df_text = df_train.loc[:, 'text_a']\n",
    "text = df_text.values\n",
    "#print(df_text)\n",
    "\n",
    "texts = []\n",
    "for i in range(len(text)):\n",
    "  texts.append(len(text[i].split(' ')))\n",
    "\n",
    "labels = df_train.loc[:, 'label'].values\n",
    "texts = np.array(texts)"
   ]
  },
  {
   "cell_type": "code",
   "execution_count": 43,
   "metadata": {
    "colab": {
     "base_uri": "https://localhost:8080/",
     "height": 268.0
    },
    "id": "BH9IxHNTm0o8",
    "outputId": "c9e515f3-e89d-4e73-eaa2-9b4a0289642a"
   },
   "outputs": [
    {
     "data": {
      "image/png": "[encoded data removed]",
      "text/plain": [
       "<Figure size 432x288 with 1 Axes>"
      ]
     },
     "metadata": {
      "tags": [],
      "needs_background": "light"
     },
     "output_type": "display_data"
    }
   ],
   "source": [
    "import matplotlib.pyplot as plt\n",
    "\n",
    "# axis设置坐标轴的范围\n",
    "plt.axis([0.5, 2.5, 0, 30])\n",
    "# x为x轴中坐标x的值，y为y轴中坐标y的值，x与y都是长度相同的数组序列，color为点的颜色，marker为散点的形状，\n",
    "# linewidth为点的大小\n",
    "plt.scatter(labels + 1, texts, color=\"blue\", marker=\",\", linewidth=0.01)\n",
    "plt.show()"
   ]
  },
  {
   "cell_type": "code",
   "execution_count": 11,
   "metadata": {
    "colab": {
     "base_uri": "https://localhost:8080/",
     "height": 89.0
    },
    "id": "esmFJO_J3q2r",
    "outputId": "9e6ca83a-dc1e-4b58-890c-99b238f81864"
   },
   "outputs": [
    {
     "data": {
      "text/plain": [
       "'\\n\\ndef iszero(x):\\n  if x is 0:\\n    x = 1\\n  return x\\n\\n\\nfile_name = \"test\"\\ndf = pd.read_csv(file_name + \".csv\")\\n#print(len(df))\\n#re_pat = re.compile(r\\'<(.*?)/>\\') # 正则表达式，匹配<.../>内的内容，等待被替换\\n#text_a, text_b = [], []\\n\\n#for i in range(len(df)):\\n#  text_a.append(re.sub(re_pat, df.loc[i, \\'edit1\\'], df.loc[i, \\'original1\\']))\\n#  text_b.append(re.sub(re_pat, df.loc[i, \\'edit2\\'], df.loc[i, \\'original2\\']))\\n\\ndf_processed = df.loc[:, [\\'id\\', \\'label\\']]\\ndf_processed[\\'label\\'] = df.label.apply(iszero)\\n\\n\\ndf_processed.columns = [\\'id\\', \\'pred\\']\\n#df_processed.insert(1, \\'text_a\\', text_a) \\n#df_processed.insert(2, \\'text_b\\', text_b)\\n#print(df_processed.head(5))\\ndf_processed.to_csv(\"task-2-output.csv\", index=False)\\nprint(\"Finished writing to task-2-output.csv\".format(file_name))\\n\\n'"
      ]
     },
     "execution_count": 11,
     "metadata": {
      "tags": []
     },
     "output_type": "execute_result"
    }
   ],
   "source": [
    "[\"\"\"\n",
    "\n",
    "def iszero(x):\n",
    "  if x is 0:\n",
    "    x = 1\n",
    "  return x\n",
    "\n",
    "\n",
    "file_name = \"test\"\n",
    "df = pd.read_csv(file_name + \".csv\")\n",
    "#print(len(df))\n",
    "#re_pat = re.compile(r'<(.*?)/>') # 正则表达式，匹配<.../>内的内容，等待被替换\n",
    "#text_a, text_b = [], []\n",
    "\n",
    "#for i in range(len(df)):\n",
    "#  text_a.append(re.sub(re_pat, df.loc[i, 'edit1'], df.loc[i, 'original1']))\n",
    "#  text_b.append(re.sub(re_pat, df.loc[i, 'edit2'], df.loc[i, 'original2']))\n",
    "\n",
    "df_processed = df.loc[:, ['id', 'label']]\n",
    "df_processed['label'] = df.label.apply(iszero)\n",
    "\n",
    "\n",
    "df_processed.columns = ['id', 'pred']\n",
    "#df_processed.insert(1, 'text_a', text_a) \n",
    "#df_processed.insert(2, 'text_b', text_b)\n",
    "#print(df_processed.head(5))\n",
    "df_processed.to_csv(\"task-2-output.csv\", index=False)\n",
    "print(\"Finished writing to task-2-output.csv\".format(file_name))\n",
    "\n",
    "\"\"\""
   ]
  },
  {
   "cell_type": "markdown",
   "metadata": {
    "id": "LJz8TJ5UjPw3"
   },
   "source": [
    "## Generating Dataset, DataLoader"
   ]
  },
  {
   "cell_type": "code",
   "execution_count": 13,
   "metadata": {
    "id": "3aohD53aJrz1"
   },
   "outputs": [],
   "source": [
    "\"\"\"\n",
    "實作一個可以用來讀取訓練 / 測試集的 Dataset。\n",
    "此 Dataset 每次將 tsv 裡的一筆成對句子轉換成 BERT 相容的格式，並回傳 3 個 tensors：\n",
    "- tokens_tensor：兩個句子合併後的索引序列，包含 [CLS] 與 [SEP]\n",
    "- segments_tensor：可以用來識別兩個句子界限的 binary tensor\n",
    "- label_tensor：將分類標籤轉換成類別索引的 tensor, 如果是測試集則回傳 None\n",
    "\"\"\"\n",
    "from torch.utils.data import Dataset\n",
    "\n",
    "class Task2Dataset(Dataset):\n",
    "  # 讀取前處理後的 dsv 檔並初始化一些參數\n",
    "  def __init__(self, mode, tokenizer):\n",
    "    assert mode in [\"train\", \"dev\", \"test\"] \n",
    "    self.mode = mode\n",
    "    # 大數據你會需要用 iterator=True\n",
    "    self.df = pd.read_csv(mode + \"_processed.csv\").fillna(\"\")\n",
    "    self.len = len(self.df)\n",
    "    self.tokenizer = tokenizer  # 我們將使用 BERT tokenizer\n",
    "  \n",
    "  # 定義回傳一筆訓練 / 測試數據的函式\n",
    "  def __getitem__(self, idx):\n",
    "\n",
    "    _, text_a, text_b, label = self.df.iloc[idx, :].values\n",
    "      \n",
    "    \"\"\"  \n",
    "    len_a = len(text_a)\n",
    "    len_b = len(text_b)\n",
    "    # 将两句话转成 [CLS]+text_a+[SEP]+ext_b+[SEP]对应的id\n",
    "    combined_text = self.tokenizer.encode(text_a, text_b, add_special_tokens=True)\n",
    "    tokens_tensor = torch.tensor(combined_text)\n",
    "    \"\"\"\n",
    "    # 建立第一個句子的 BERT tokens 並加入起始符号[CLS] 分隔符號 [SEP]\n",
    "    word_pieces = [\"[CLS]\"]\n",
    "    tokens_a = self.tokenizer.tokenize(text_a)\n",
    "    word_pieces += tokens_a + [\"[SEP]\"]\n",
    "    len_a = len(word_pieces)\n",
    "    \n",
    "    # 第二個句子的 BERT tokens 並加入分隔符號 [SEP]\n",
    "    tokens_b = self.tokenizer.tokenize(text_b)\n",
    "    word_pieces += tokens_b + [\"[SEP]\"]\n",
    "    len_b = len(word_pieces) - len_a\n",
    "\n",
    "    # 將整個 token 序列轉換成索引序列\n",
    "    ids = self.tokenizer.convert_tokens_to_ids(word_pieces)\n",
    "    tokens_tensor = torch.tensor(ids) \n",
    "    \n",
    "    # 將第一句包含 [SEP] 的 token 位置設為 0，其他為 1 表示第二句\n",
    "    segments_tensor = torch.tensor([0] * len_a + [1] * len_b, \n",
    "                                    dtype=torch.long)\n",
    "    label_tensor = torch.tensor(label)\n",
    "    \n",
    "    return (tokens_tensor, segments_tensor, label_tensor)\n",
    "  \n",
    "  def __len__(self):\n",
    "    return self.len\n",
    "    \n",
    "    \n",
    "# 初始化一個專門讀取訓練樣本的 Dataset，使用bert-base-cased 斷詞\n",
    "trainset = Task2Dataset(\"train\", tokenizer=tokenizer)\n",
    "devset = Task2Dataset(\"dev\", tokenizer=tokenizer)\n",
    "testset = Task2Dataset(\"test\", tokenizer=tokenizer)"
   ]
  },
  {
   "cell_type": "code",
   "execution_count": 15,
   "metadata": {
    "colab": {
     "base_uri": "https://localhost:8080/"
    },
    "id": "mje9s5yNQ41-",
    "outputId": "7787d0e9-b098-4a54-f650-2deca67b7b9e"
   },
   "outputs": [
    {
     "name": "stdout",
     "output_type": "stream",
     "text": [
      "[initial text]\n",
      "text 1：\" System safeguards are lacking \" , quote following a Tesla 's flight during autopilot\n",
      "text 2：\" System safeguards are lacking \" , quote following a Tesla 's explosion during autopilot\n",
      "label  ：2\n",
      "\n",
      "--------------------\n",
      "\n",
      "[Dataset returns]\n",
      "\n",
      "tokens_tensor  ：tensor([  101,   107,  3910,  2914, 12188,  1116,  1132, 11744,   107,   117,\n",
      "        15882,  1378,   170, 12008, 26597,   112,   188,  3043,  1219, 12365,\n",
      "         8508,  7841,   102,   107,  3910,  2914, 12188,  1116,  1132, 11744,\n",
      "          107,   117, 15882,  1378,   170, 12008, 26597,   112,   188,  7552,\n",
      "         1219, 12365,  8508,  7841,   102]) shape:torch.Size([45])\n",
      "\n",
      "segments_tensor：tensor([0, 0, 0, 0, 0, 0, 0, 0, 0, 0, 0, 0, 0, 0, 0, 0, 0, 0, 0, 0, 0, 0, 0, 1,\n",
      "        1, 1, 1, 1, 1, 1, 1, 1, 1, 1, 1, 1, 1, 1, 1, 1, 1, 1, 1, 1, 1]) shape:torch.Size([45])\n",
      "\n",
      "label_tensor   ：2\n",
      "\n",
      "--------------------\n",
      "\n",
      "[tokens_tensors to combined text]\n",
      "[CLS] \" System safe ##guard ##s are lacking \" , quote following a Te ##sla ' s flight during auto ##pi ##lot [SEP] \" System safe ##guard ##s are lacking \" , quote following a Te ##sla ' s explosion during auto ##pi ##lot [SEP]\n",
      "\n"
     ]
    }
   ],
   "source": [
    "# 選擇第一個樣本\n",
    "sample_idx = 4\n",
    "\n",
    "# 將原始文本拿出做比較\n",
    "_, text_a, text_b, label = trainset.df.iloc[sample_idx].values\n",
    "\n",
    "# 利用剛剛建立的 Dataset 取出轉換後的 id tensors\n",
    "tokens_tensor, segments_tensor, label_tensor = trainset[sample_idx]\n",
    "\n",
    "# 將 tokens_tensor 還原成文本\n",
    "tokens = tokenizer.convert_ids_to_tokens(tokens_tensor.tolist())\n",
    "combined_text = \" \".join(tokens)\n",
    "\n",
    "#print(\"tokens: \", tokens)\n",
    "\n",
    "# 渲染前後差異，毫無反應就是個 print。可以直接看輸出結果\n",
    "print(f\"\"\"[initial text]\n",
    "text 1：{text_a}\n",
    "text 2：{text_b}\n",
    "label  ：{label + 1}\n",
    "\n",
    "--------------------\n",
    "\n",
    "[Dataset returns]\n",
    "\n",
    "tokens_tensor  ：{tokens_tensor} shape:{tokens_tensor.shape}\n",
    "\n",
    "segments_tensor：{segments_tensor} shape:{segments_tensor.shape}\n",
    "\n",
    "label_tensor   ：{label_tensor + 1}\n",
    "\n",
    "--------------------\n",
    "\n",
    "[tokens_tensors to combined text]\n",
    "{combined_text}\n",
    "\"\"\")"
   ]
  },
  {
   "cell_type": "code",
   "execution_count": 16,
   "metadata": {
    "id": "4y_nNiLwSCfs"
   },
   "outputs": [],
   "source": [
    "\"\"\"\n",
    "實作可以一次回傳一個 mini-batch 的 DataLoader\n",
    "這個 DataLoader 吃我們上面定義的 `Task2Dataset`，\n",
    "回傳訓練 BERT 時會需要的 4 個 tensors：\n",
    "- tokens_tensors  : (batch_size, max_seq_len_in_batch)\n",
    "- segments_tensors: (batch_size, max_seq_len_in_batch)\n",
    "- masks_tensors   : (batch_size, max_seq_len_in_batch)\n",
    "- label_ids       : (batch_size)\n",
    "\"\"\"\n",
    "\n",
    "from torch.utils.data import DataLoader\n",
    "from torch.nn.utils.rnn import pad_sequence\n",
    "\n",
    "# 這個函式的輸入 `samples` 是一個 list，裡頭的每個 element 都是\n",
    "# 剛剛定義的 `Task2Dataset` 回傳的一個樣本，每個樣本都包含 3 tensors：\n",
    "# - tokens_tensor\n",
    "# - segments_tensor\n",
    "# - label_tensor\n",
    "# 它會對兩個 tokens_tensor 与 segments_tensor 作 zero padding，並產生前面說明過的 masks_tensors\n",
    "def collate_fn_padd(samples):\n",
    "\n",
    "  tokens_tensors = [s[0] for s in samples]\n",
    "  segments_tensors = [s[1] for s in samples]\n",
    "  \n",
    "  label_ids = torch.stack([s[2] for s in samples])\n",
    "  \n",
    "  # zero pad 到同一序列長度\n",
    "  tokens_tensors = pad_sequence(tokens_tensors, batch_first=True)\n",
    "  segments_tensors = pad_sequence(segments_tensors, batch_first=True)\n",
    "  \n",
    "  # attention masks，將 tokens_tensors 裡頭不為 zero padding\n",
    "  # 的位置設為 1 讓 BERT 只關注這些位置的 tokens\n",
    "  masks_tensors = torch.zeros(tokens_tensors.shape, dtype=torch.long)\n",
    "  masks_tensors = masks_tensors.masked_fill(tokens_tensors != 0, 1)\n",
    "  \n",
    "  return tokens_tensors, segments_tensors, masks_tensors, label_ids\n",
    "\n",
    "\n",
    "# 初始化一個每次回傳 64 個訓練樣本的 DataLoader\n",
    "# 利用 `collate_fn` 將 list of samples 合併成一個 mini-batch 是關鍵\n",
    "BATCH_SIZE = 32\n",
    "trainloader = DataLoader(trainset, batch_size=BATCH_SIZE, \n",
    "                         collate_fn=collate_fn_padd)\n",
    "devloader = DataLoader(devset, batch_size=BATCH_SIZE, \n",
    "                         collate_fn=collate_fn_padd)\n",
    "testloader = DataLoader(testset, batch_size=BATCH_SIZE, \n",
    "                         collate_fn=collate_fn_padd)"
   ]
  },
  {
   "cell_type": "code",
   "execution_count": 17,
   "metadata": {
    "colab": {
     "base_uri": "https://localhost:8080/"
    },
    "id": "mIduduHGWvgX",
    "outputId": "d6aa9ab1-e57a-481c-ae2f-933a36fe8657"
   },
   "outputs": [
    {
     "name": "stdout",
     "output_type": "stream",
     "text": [
      "\n",
      "tokens_tensors.shape   = torch.Size([32, 53]) \n",
      "tensor([[  101,   107,  9066,  ...,     0,     0,     0],\n",
      "        [  101,   107,   146,  ...,     0,     0,     0],\n",
      "        [  101,   107,   146,  ...,     0,     0,     0],\n",
      "        ...,\n",
      "        [  101,   112,  2117,  ...,     0,     0,     0],\n",
      "        [  101,   112, 20053,  ...,     0,     0,     0],\n",
      "        [  101,   112, 20053,  ...,     0,     0,     0]])\n",
      "------------------------\n",
      "segments_tensors.shape = torch.Size([32, 53])\n",
      "tensor([[0, 0, 0,  ..., 0, 0, 0],\n",
      "        [0, 0, 0,  ..., 0, 0, 0],\n",
      "        [0, 0, 0,  ..., 0, 0, 0],\n",
      "        ...,\n",
      "        [0, 0, 0,  ..., 0, 0, 0],\n",
      "        [0, 0, 0,  ..., 0, 0, 0],\n",
      "        [0, 0, 0,  ..., 0, 0, 0]])\n",
      "------------------------\n",
      "masks_tensors.shape    = torch.Size([32, 53])\n",
      "tensor([[1, 1, 1,  ..., 0, 0, 0],\n",
      "        [1, 1, 1,  ..., 0, 0, 0],\n",
      "        [1, 1, 1,  ..., 0, 0, 0],\n",
      "        ...,\n",
      "        [1, 1, 1,  ..., 0, 0, 0],\n",
      "        [1, 1, 1,  ..., 0, 0, 0],\n",
      "        [1, 1, 1,  ..., 0, 0, 0]])\n",
      "------------------------\n",
      "label_ids.shape        = torch.Size([32])\n",
      "tensor([0, 0, 0, 1, 1, 1, 1, 1, 0, 0, 0, 0, 1, 1, 0, 1, 0, 0, 0, 0, 1, 0, 0, 0,\n",
      "        1, 0, 0, 1, 1, 0, 1, 1])\n",
      "\n"
     ]
    }
   ],
   "source": [
    "# 有了可以回傳 mini-batch 的 DataLoader 後，讓我們馬上拿出一個 batch 看看\n",
    "\n",
    "data = next(iter(trainloader))\n",
    "\n",
    "tokens_tensors, segments_tensors, \\\n",
    "    masks_tensors, label_ids = data\n",
    "\n",
    "print(f\"\"\"\n",
    "tokens_tensors.shape   = {tokens_tensors.shape} \n",
    "{tokens_tensors}\n",
    "------------------------\n",
    "segments_tensors.shape = {segments_tensors.shape}\n",
    "{segments_tensors}\n",
    "------------------------\n",
    "masks_tensors.shape    = {masks_tensors.shape}\n",
    "{masks_tensors}\n",
    "------------------------\n",
    "label_ids.shape        = {label_ids.shape}\n",
    "{label_ids}\n",
    "\"\"\")"
   ]
  },
  {
   "cell_type": "code",
   "execution_count": 18,
   "metadata": {
    "colab": {
     "base_uri": "https://localhost:8080/"
    },
    "id": "_1V_QpEqctCe",
    "outputId": "7f6c7a7f-980e-459f-f287-509890d6eee2"
   },
   "outputs": [
    {
     "name": "stdout",
     "output_type": "stream",
     "text": [
      "True\n"
     ]
    }
   ],
   "source": [
    "print(torch.cuda.is_available())"
   ]
  },
  {
   "cell_type": "markdown",
   "metadata": {
    "id": "L2ymCe_ejX4A"
   },
   "source": [
    "## Load model from BERT\n",
    "\n"
   ]
  },
  {
   "cell_type": "code",
   "execution_count": 19,
   "metadata": {
    "colab": {
     "base_uri": "https://localhost:8080/",
     "height": 391.0,
     "referenced_widgets": [
      "80437a37395947458559ce7e1535f02b",
      "ff04b06cc2934e0e8d46269b35ce1c42",
      "901684ff9565450aa151105b5a48e6ff",
      "6735d9423ec345c99d7054fbf6a60c00",
      "818d74f04d6645879b3b5c11108349cc",
      "e8ee1fadf698446984a96472dc385f8e",
      "9b40a02aebcb4da2b2025492f1e3e01f",
      "8a7e359ea5b94ea8930930b9ce9bb914",
      "2c401b949360423fb44bf471980551c2",
      "b9170e4a72e649f5bb74a66394731fc1",
      "b68dbe258de64c9d8b23a725bc916c76",
      "af9b205dcaf147fdbb84e5e13539a985",
      "f866cf111e034784b324d5ee134b1baa",
      "7ac0acceefcb44d2a351568a1afc27c9",
      "92e6781690aa44719cc5c3eb5752739a",
      "f6c91b52762f4bbd8786358ec0aeb59e"
     ]
    },
    "id": "YbszRJjqZGek",
    "outputId": "56e8cc4f-7a8f-46c0-b1a1-effd4615bae6"
   },
   "outputs": [
    {
     "data": {
      "text/plain": [
       "HBox(children=(FloatProgress(value=0.0, description='Downloading', max=433.0, style=ProgressStyle(description_…"
      ]
     },
     "metadata": {
      "tags": []
     },
     "output_type": "display_data"
    },
    {
     "name": "stdout",
     "output_type": "stream",
     "text": [
      "\n"
     ]
    },
    {
     "data": {
      "text/plain": [
       "HBox(children=(FloatProgress(value=0.0, description='Downloading', max=435779157.0, style=ProgressStyle(descri…"
      ]
     },
     "metadata": {
      "tags": []
     },
     "output_type": "display_data"
    },
    {
     "name": "stdout",
     "output_type": "stream",
     "text": [
      "\n"
     ]
    },
    {
     "name": "stderr",
     "output_type": "stream",
     "text": [
      "Some weights of the model checkpoint at bert-base-cased were not used when initializing BertForSequenceClassification: ['cls.predictions.bias', 'cls.predictions.transform.dense.weight', 'cls.predictions.transform.dense.bias', 'cls.predictions.decoder.weight', 'cls.seq_relationship.weight', 'cls.seq_relationship.bias', 'cls.predictions.transform.LayerNorm.weight', 'cls.predictions.transform.LayerNorm.bias']\n",
      "- This IS expected if you are initializing BertForSequenceClassification from the checkpoint of a model trained on another task or with another architecture (e.g. initializing a BertForSequenceClassification model from a BertForPreTraining model).\n",
      "- This IS NOT expected if you are initializing BertForSequenceClassification from the checkpoint of a model that you expect to be exactly identical (initializing a BertForSequenceClassification model from a BertForSequenceClassification model).\n",
      "Some weights of BertForSequenceClassification were not initialized from the model checkpoint at bert-base-cased and are newly initialized: ['classifier.weight', 'classifier.bias']\n",
      "You should probably TRAIN this model on a down-stream task to be able to use it for predictions and inference.\n"
     ]
    },
    {
     "name": "stdout",
     "output_type": "stream",
     "text": [
      "Model initialised.\n",
      "\n",
      "name            module\n",
      "----------------------\n",
      "bert:embeddings\n",
      "bert:encoder\n",
      "bert:pooler\n",
      "dropout         Dropout(p=0.1, inplace=False)\n",
      "classifier      Linear(in_features=768, out_features=2, bias=True)\n"
     ]
    }
   ],
   "source": [
    "# 載入一個可以做中文多分類任務的模型，n_class = 2\n",
    "from transformers import BertForSequenceClassification\n",
    "\n",
    "NUM_LABELS = 2\n",
    "\n",
    "model = BertForSequenceClassification.from_pretrained(\n",
    "    PRETRAINED_MODEL_NAME, num_labels=NUM_LABELS)\n",
    "model.to(device)\n",
    "print(\"Model initialised.\")\n",
    "\n",
    "# high-level 顯示此模型裡的 modules\n",
    "print(\"\"\"\n",
    "name            module\n",
    "----------------------\"\"\")\n",
    "for name, module in model.named_children():\n",
    "    if name == \"bert\":\n",
    "        for n, _ in module.named_children():\n",
    "            print(f\"{name}:{n}\")\n",
    "    else:\n",
    "        print(\"{:15} {}\".format(name, module))"
   ]
  },
  {
   "cell_type": "code",
   "execution_count": 20,
   "metadata": {
    "colab": {
     "base_uri": "https://localhost:8080/"
    },
    "id": "THiT6YCwZcKO",
    "outputId": "f67ccf06-c603-4f2b-b506-e21734b764b7"
   },
   "outputs": [
    {
     "data": {
      "text/plain": [
       "BertConfig {\n",
       "  \"_name_or_path\": \"bert-base-cased\",\n",
       "  \"architectures\": [\n",
       "    \"BertForMaskedLM\"\n",
       "  ],\n",
       "  \"attention_probs_dropout_prob\": 0.1,\n",
       "  \"gradient_checkpointing\": false,\n",
       "  \"hidden_act\": \"gelu\",\n",
       "  \"hidden_dropout_prob\": 0.1,\n",
       "  \"hidden_size\": 768,\n",
       "  \"initializer_range\": 0.02,\n",
       "  \"intermediate_size\": 3072,\n",
       "  \"layer_norm_eps\": 1e-12,\n",
       "  \"max_position_embeddings\": 512,\n",
       "  \"model_type\": \"bert\",\n",
       "  \"num_attention_heads\": 12,\n",
       "  \"num_hidden_layers\": 12,\n",
       "  \"pad_token_id\": 0,\n",
       "  \"position_embedding_type\": \"absolute\",\n",
       "  \"transformers_version\": \"4.5.0\",\n",
       "  \"type_vocab_size\": 2,\n",
       "  \"use_cache\": true,\n",
       "  \"vocab_size\": 28996\n",
       "}"
      ]
     },
     "execution_count": 20,
     "metadata": {
      "tags": []
     },
     "output_type": "execute_result"
    }
   ],
   "source": [
    "model.config"
   ]
  },
  {
   "cell_type": "code",
   "execution_count": 21,
   "metadata": {
    "colab": {
     "base_uri": "https://localhost:8080/"
    },
    "id": "2bZ5xwJTZ_mM",
    "outputId": "0607f79a-b630-424a-eb52-370c4f5c9b3d"
   },
   "outputs": [
    {
     "name": "stdout",
     "output_type": "stream",
     "text": [
      "\n",
      "整個分類模型的參數量：108311810\n",
      "線性分類器的參數量：1538\n",
      "\n"
     ]
    }
   ],
   "source": [
    "def get_learnable_params(module):\n",
    "    return [p for p in module.parameters() if p.requires_grad]\n",
    "     \n",
    "model_params = get_learnable_params(model)\n",
    "clf_params = get_learnable_params(model.classifier)\n",
    "\n",
    "print(f\"\"\"\n",
    "整個分類模型的參數量：{sum(p.numel() for p in model_params)}\n",
    "線性分類器的參數量：{sum(p.numel() for p in clf_params)}\n",
    "\"\"\")"
   ]
  },
  {
   "cell_type": "markdown",
   "metadata": {
    "id": "rUHusOFya5be"
   },
   "source": [
    "## Define eval() and train()"
   ]
  },
  {
   "cell_type": "code",
   "execution_count": 25,
   "metadata": {
    "id": "_LWHPleLbAtO"
   },
   "outputs": [],
   "source": [
    "\"\"\"\n",
    "定義一個可以針對特定 DataLoader 取得模型預測結果以及分類準確度的函式\n",
    "\n",
    "在將 `tokens`、`segments_tensors` 等 tensors\n",
    "丟入模型時，強力建議指定每個 tensor 對應的參數名稱，以避免 HuggingFace\n",
    "更新 repo 程式碼並改變參數順序時影響到我們的結果。\n",
    "\"\"\"\n",
    "def eval(data_iter, model):\n",
    "  model.eval()\n",
    "  predictions = None\n",
    "  targets = None\n",
    "  total_correct = 0\n",
    "  total_observation = 0\n",
    "  total_loss = 0\n",
    "\n",
    "  with torch.no_grad():\n",
    "    # 遍巡整個資料集\n",
    "    for batch in data_iter:\n",
    "      # batch就是函数collate_fn_padd的返回值\n",
    "      tokens_tensors, segments_tensors, masks_tensors, labels = batch\n",
    "      tokens_tensors, segments_tensors, masks_tensors, labels = tokens_tensors.to(device), \\\n",
    "          segments_tensors.to(device), masks_tensors.to(device), labels.to(device)\n",
    "\n",
    "      # for BERT:\n",
    "      # test的时候不提供labels， 所以没有loss\n",
    "      outputs = model(input_ids=tokens_tensors, \n",
    "                token_type_ids=segments_tensors, \n",
    "                attention_mask=masks_tensors,\n",
    "                labels=labels)\n",
    "      \n",
    "      loss = outputs.loss    # loss就是损失函数生成的loss, 这个return值只有在提供label的情况下才会生成\n",
    "      logits = outputs.logits  # (batch_size, config.num_labels)， Classification scores (before SoftMax).\n",
    "\n",
    "      _, pred = torch.max(logits, 1)\n",
    "      \n",
    "      total_observation += labels.size(0)\n",
    "      total_correct += (pred == labels).sum().item()\n",
    "      total_loss += loss.item()\n",
    "\n",
    "      # 將當前 batch 記錄下來\n",
    "      if predictions is None:\n",
    "        predictions = pred\n",
    "      else:\n",
    "        predictions = torch.cat((predictions, pred))\n",
    "\n",
    "      if targets is None:\n",
    "        targets = labels\n",
    "      else:\n",
    "        targets = torch.cat((targets, labels))\n",
    "    \n",
    "  #acc = correct / total\n",
    "  return total_loss/total_observation, total_correct/total_observation, predictions, targets"
   ]
  },
  {
   "cell_type": "code",
   "execution_count": 24,
   "metadata": {
    "colab": {
     "base_uri": "https://localhost:8080/"
    },
    "id": "xjfbhrVsbd6s",
    "outputId": "a02f5ce9-070d-4cf1-baa1-3724578bf395"
   },
   "outputs": [
    {
     "name": "stdout",
     "output_type": "stream",
     "text": [
      "classification acc: 49.92%\n"
     ]
    }
   ],
   "source": [
    "# first see the model performance on the training set  before training \n",
    "_, acc, _, _ = eval(trainloader, model)\n",
    "print(\"classification acc: {:.2f}%\".format(acc*100))"
   ]
  },
  {
   "cell_type": "code",
   "execution_count": 34,
   "metadata": {
    "id": "TwsxiQArfavM"
   },
   "outputs": [],
   "source": [
    "def train(train_iter, dev_iter, model, number_epoch):\n",
    "    \"\"\"\n",
    "    Training loop for the model, which calls on eval to evaluate after each epoch\n",
    "    \"\"\"\n",
    "\n",
    "    print(\"Training model.\")\n",
    "\n",
    "    for epoch in range(1, number_epoch + 1):\n",
    "        # 訓練模式\n",
    "        model.train()\n",
    "\n",
    "        total_loss = 0\n",
    "        total_correct = 0\n",
    "        total_observations = 0  # Observations used for training so far\n",
    "\n",
    "        for batch in train_iter:\n",
    "            # batch就是函数collate_fn_padd的返回值\n",
    "            tokens_tensors, segments_tensors, masks_tensors, labels = batch\n",
    "            tokens_tensors, segments_tensors, masks_tensors, labels = tokens_tensors.to(device), \\\n",
    "            segments_tensors.to(device), masks_tensors.to(device), labels.to(device)\n",
    "\n",
    "            \n",
    "            # 將參數梯度歸零\n",
    "            optimizer.zero_grad()\n",
    "\n",
    "            # for BERT:\n",
    "            # forward pass\n",
    "            outputs = model(input_ids=tokens_tensors, \n",
    "                        token_type_ids=segments_tensors, \n",
    "                        attention_mask=masks_tensors, \n",
    "                        labels=labels)\n",
    "\n",
    "            loss = outputs.loss    # loss就是损失函数生成的loss, 这个return值只有在提供label的情况下才会生成\n",
    "            logits = outputs.logits  # (batch_size, config.num_labels)， Classification scores (before SoftMax).\n",
    "\n",
    "            _, pred = torch.max(logits, 1)\n",
    "\n",
    "\n",
    "            total_observations += labels.size(0)\n",
    "            total_correct += (pred == labels).sum().item()\n",
    "            total_loss += loss.item()\n",
    "\n",
    "\n",
    "            #predictions = model(feature).squeeze(1)\n",
    "\n",
    "            #loss = loss_fn(predictions, target)\n",
    "\n",
    "\n",
    "            # backward and update the gradient\n",
    "            loss.backward()\n",
    "            optimizer.step()\n",
    "          \n",
    "\n",
    "            #epoch_loss += loss.item() * target.shape[0]\n",
    "            #total_correct += correct\n",
    "\n",
    "        valid_loss, valid_acc, __, __ = eval(dev_iter, model)\n",
    "\n",
    "        total_loss, total_acc = total_loss / total_observations, total_correct / total_observations\n",
    "        print(f'| Epoch: {epoch:02} | Train Loss: {total_loss:.2f} | Train Accuracy: {total_acc:.2f} | \\\n",
    "        Val. Loss: {valid_loss:.2f} | Val. Accuracy: {valid_acc:.2f} |')\n"
   ]
  },
  {
   "cell_type": "markdown",
   "metadata": {
    "id": "IDvcMCDbjzOP"
   },
   "source": [
    "## Train the model"
   ]
  },
  {
   "cell_type": "code",
   "execution_count": 40,
   "metadata": {
    "id": "7ZUB4ukCyEO7"
   },
   "outputs": [],
   "source": [
    "# 使用 Adam Optim 更新整個分類模型的參數\n",
    "optimizer = torch.optim.Adam(model.parameters(), lr=1e-5)\n",
    "epochs = 8 # 幸運數字"
   ]
  },
  {
   "cell_type": "code",
   "execution_count": 41,
   "metadata": {
    "colab": {
     "base_uri": "https://localhost:8080/"
    },
    "id": "EHiabzXifqNr",
    "outputId": "8fdfbfb0-164a-4a9a-e024-d48c0922eb34"
   },
   "outputs": [
    {
     "name": "stdout",
     "output_type": "stream",
     "text": [
      "Training model.\n",
      "| Epoch: 01 | Train Loss: 0.01 | Train Accuracy: 0.88 |         Val. Loss: 0.04 | Val. Accuracy: 0.54 |\n",
      "| Epoch: 02 | Train Loss: 0.01 | Train Accuracy: 0.91 |         Val. Loss: 0.05 | Val. Accuracy: 0.53 |\n",
      "| Epoch: 03 | Train Loss: 0.01 | Train Accuracy: 0.93 |         Val. Loss: 0.04 | Val. Accuracy: 0.56 |\n",
      "| Epoch: 04 | Train Loss: 0.01 | Train Accuracy: 0.93 |         Val. Loss: 0.04 | Val. Accuracy: 0.58 |\n",
      "| Epoch: 05 | Train Loss: 0.01 | Train Accuracy: 0.93 |         Val. Loss: 0.04 | Val. Accuracy: 0.58 |\n",
      "| Epoch: 06 | Train Loss: 0.00 | Train Accuracy: 0.95 |         Val. Loss: 0.05 | Val. Accuracy: 0.57 |\n",
      "| Epoch: 07 | Train Loss: 0.00 | Train Accuracy: 0.96 |         Val. Loss: 0.05 | Val. Accuracy: 0.58 |\n",
      "| Epoch: 08 | Train Loss: 0.00 | Train Accuracy: 0.97 |         Val. Loss: 0.05 | Val. Accuracy: 0.59 |\n",
      "CPU times: user 5min 13s, sys: 2min 14s, total: 7min 28s\n",
      "Wall time: 7min 28s\n"
     ]
    }
   ],
   "source": [
    "%%time\n",
    "train(trainloader, devloader, model, epochs)"
   ]
  },
  {
   "cell_type": "markdown",
   "metadata": {
    "id": "NtfRhp1NjsS0"
   },
   "source": [
    "## Get the result on the test set"
   ]
  },
  {
   "cell_type": "code",
   "execution_count": 44,
   "metadata": {
    "colab": {
     "base_uri": "https://localhost:8080/"
    },
    "id": "Ult2fDRhze2U",
    "outputId": "9a602cb2-6ef0-4cc0-847a-0b5e8303e1ea"
   },
   "outputs": [
    {
     "name": "stdout",
     "output_type": "stream",
     "text": [
      "Test ...\n",
      "Test_acc=0.5924657534246576\n",
      "CPU times: user 4.62 s, sys: 1.63 s, total: 6.26 s\n",
      "Wall time: 6.24 s\n"
     ]
    }
   ],
   "source": [
    "%%time\n",
    "_, acc, predictions, _ = eval(testloader, model)\n",
    "\n",
    "print('Test ...')\n",
    "print('Test_acc={}'.format(acc))\n",
    "\n",
    "# 生成 繳交檔案\n",
    "df = pd.DataFrame({\"pred\": predictions.tolist()})\n",
    "df_pred = pd.concat([testset.df.loc[:, [\"id\"]], \n",
    "                          df.loc[:, 'pred']], axis=1)\n",
    "df_pred['pred'] = df.pred.apply(lambda x: x + 1)\n",
    "df_pred.to_csv('task-2-output.csv', index=False)\n",
    "df_pred.head()"
   ]
  }
 ],
 "metadata": {
  "kernelspec": {
   "display_name": "Python 3",
   "language": "python",
   "name": "python3"
  },
  "language_info": {
   "codemirror_mode": {
    "name": "ipython",
    "version": 3
   },
   "file_extension": ".py",
   "mimetype": "text/x-python",
   "name": "python",
   "nbconvert_exporter": "python",
   "pygments_lexer": "ipython3",
   "version": "3.7.1"
  },
  "colab": {
   "name": "BERT_final.ipynb",
   "provenance": [],
   "collapsed_sections": []
  },
  "accelerator": "GPU",
  "widgets": {
   "application/vnd.jupyter.widget-state+json": {
    "5f37234c991f4d3b9d3669de09227774": {
     "model_module": "@jupyter-widgets/controls",
     "model_name": "HBoxModel",
     "state": {
      "_view_name": "HBoxView",
      "_dom_classes": [],
      "_model_name": "HBoxModel",
      "_view_module": "@jupyter-widgets/controls",
      "_model_module_version": "1.5.0",
      "_view_count": null,
      "_view_module_version": "1.5.0",
      "box_style": "",
      "layout": "IPY_MODEL_8c7963f5aba84a2aabe2c09205eb2902",
      "_model_module": "@jupyter-widgets/controls",
      "children": [
       "IPY_MODEL_026b1ee2f73547279a283d020c0392d9",
       "IPY_MODEL_498adc52fa7743c3a32ffaf7f732f922"
      ]
     }
    },
    "8c7963f5aba84a2aabe2c09205eb2902": {
     "model_module": "@jupyter-widgets/base",
     "model_name": "LayoutModel",
     "state": {
      "_view_name": "LayoutView",
      "grid_template_rows": null,
      "right": null,
      "justify_content": null,
      "_view_module": "@jupyter-widgets/base",
      "overflow": null,
      "_model_module_version": "1.2.0",
      "_view_count": null,
      "flex_flow": null,
      "width": null,
      "min_width": null,
      "border": null,
      "align_items": null,
      "bottom": null,
      "_model_module": "@jupyter-widgets/base",
      "top": null,
      "grid_column": null,
      "overflow_y": null,
      "overflow_x": null,
      "grid_auto_flow": null,
      "grid_area": null,
      "grid_template_columns": null,
      "flex": null,
      "_model_name": "LayoutModel",
      "justify_items": null,
      "grid_row": null,
      "max_height": null,
      "align_content": null,
      "visibility": null,
      "align_self": null,
      "height": null,
      "min_height": null,
      "padding": null,
      "grid_auto_rows": null,
      "grid_gap": null,
      "max_width": null,
      "order": null,
      "_view_module_version": "1.2.0",
      "grid_template_areas": null,
      "object_position": null,
      "object_fit": null,
      "grid_auto_columns": null,
      "margin": null,
      "display": null,
      "left": null
     }
    },
    "026b1ee2f73547279a283d020c0392d9": {
     "model_module": "@jupyter-widgets/controls",
     "model_name": "FloatProgressModel",
     "state": {
      "_view_name": "ProgressView",
      "style": "IPY_MODEL_a91ce6fa3ced4a87904ed8079d80afe6",
      "_dom_classes": [],
      "description": "Downloading: 100%",
      "_model_name": "FloatProgressModel",
      "bar_style": "success",
      "max": 213450.0,
      "_view_module": "@jupyter-widgets/controls",
      "_model_module_version": "1.5.0",
      "value": 213450.0,
      "_view_count": null,
      "_view_module_version": "1.5.0",
      "orientation": "horizontal",
      "min": 0.0,
      "description_tooltip": null,
      "_model_module": "@jupyter-widgets/controls",
      "layout": "IPY_MODEL_4ed273b02b6f41889ce180c213a75976"
     }
    },
    "498adc52fa7743c3a32ffaf7f732f922": {
     "model_module": "@jupyter-widgets/controls",
     "model_name": "HTMLModel",
     "state": {
      "_view_name": "HTMLView",
      "style": "IPY_MODEL_599a4c9dcd94443e8af3ec33c3fcb924",
      "_dom_classes": [],
      "description": "",
      "_model_name": "HTMLModel",
      "placeholder": "​",
      "_view_module": "@jupyter-widgets/controls",
      "_model_module_version": "1.5.0",
      "value": " 213k/213k [00:00&lt;00:00, 631kB/s]",
      "_view_count": null,
      "_view_module_version": "1.5.0",
      "description_tooltip": null,
      "_model_module": "@jupyter-widgets/controls",
      "layout": "IPY_MODEL_c91a2d8bc4da4456a38e414bfb14457b"
     }
    },
    "a91ce6fa3ced4a87904ed8079d80afe6": {
     "model_module": "@jupyter-widgets/controls",
     "model_name": "ProgressStyleModel",
     "state": {
      "_view_name": "StyleView",
      "_model_name": "ProgressStyleModel",
      "description_width": "initial",
      "_view_module": "@jupyter-widgets/base",
      "_model_module_version": "1.5.0",
      "_view_count": null,
      "_view_module_version": "1.2.0",
      "bar_color": null,
      "_model_module": "@jupyter-widgets/controls"
     }
    },
    "4ed273b02b6f41889ce180c213a75976": {
     "model_module": "@jupyter-widgets/base",
     "model_name": "LayoutModel",
     "state": {
      "_view_name": "LayoutView",
      "grid_template_rows": null,
      "right": null,
      "justify_content": null,
      "_view_module": "@jupyter-widgets/base",
      "overflow": null,
      "_model_module_version": "1.2.0",
      "_view_count": null,
      "flex_flow": null,
      "width": null,
      "min_width": null,
      "border": null,
      "align_items": null,
      "bottom": null,
      "_model_module": "@jupyter-widgets/base",
      "top": null,
      "grid_column": null,
      "overflow_y": null,
      "overflow_x": null,
      "grid_auto_flow": null,
      "grid_area": null,
      "grid_template_columns": null,
      "flex": null,
      "_model_name": "LayoutModel",
      "justify_items": null,
      "grid_row": null,
      "max_height": null,
      "align_content": null,
      "visibility": null,
      "align_self": null,
      "height": null,
      "min_height": null,
      "padding": null,
      "grid_auto_rows": null,
      "grid_gap": null,
      "max_width": null,
      "order": null,
      "_view_module_version": "1.2.0",
      "grid_template_areas": null,
      "object_position": null,
      "object_fit": null,
      "grid_auto_columns": null,
      "margin": null,
      "display": null,
      "left": null
     }
    },
    "599a4c9dcd94443e8af3ec33c3fcb924": {
     "model_module": "@jupyter-widgets/controls",
     "model_name": "DescriptionStyleModel",
     "state": {
      "_view_name": "StyleView",
      "_model_name": "DescriptionStyleModel",
      "description_width": "",
      "_view_module": "@jupyter-widgets/base",
      "_model_module_version": "1.5.0",
      "_view_count": null,
      "_view_module_version": "1.2.0",
      "_model_module": "@jupyter-widgets/controls"
     }
    },
    "c91a2d8bc4da4456a38e414bfb14457b": {
     "model_module": "@jupyter-widgets/base",
     "model_name": "LayoutModel",
     "state": {
      "_view_name": "LayoutView",
      "grid_template_rows": null,
      "right": null,
      "justify_content": null,
      "_view_module": "@jupyter-widgets/base",
      "overflow": null,
      "_model_module_version": "1.2.0",
      "_view_count": null,
      "flex_flow": null,
      "width": null,
      "min_width": null,
      "border": null,
      "align_items": null,
      "bottom": null,
      "_model_module": "@jupyter-widgets/base",
      "top": null,
      "grid_column": null,
      "overflow_y": null,
      "overflow_x": null,
      "grid_auto_flow": null,
      "grid_area": null,
      "grid_template_columns": null,
      "flex": null,
      "_model_name": "LayoutModel",
      "justify_items": null,
      "grid_row": null,
      "max_height": null,
      "align_content": null,
      "visibility": null,
      "align_self": null,
      "height": null,
      "min_height": null,
      "padding": null,
      "grid_auto_rows": null,
      "grid_gap": null,
      "max_width": null,
      "order": null,
      "_view_module_version": "1.2.0",
      "grid_template_areas": null,
      "object_position": null,
      "object_fit": null,
      "grid_auto_columns": null,
      "margin": null,
      "display": null,
      "left": null
     }
    },
    "b448a556e46b4ad5b7a64c4c10887475": {
     "model_module": "@jupyter-widgets/controls",
     "model_name": "HBoxModel",
     "state": {
      "_view_name": "HBoxView",
      "_dom_classes": [],
      "_model_name": "HBoxModel",
      "_view_module": "@jupyter-widgets/controls",
      "_model_module_version": "1.5.0",
      "_view_count": null,
      "_view_module_version": "1.5.0",
      "box_style": "",
      "layout": "IPY_MODEL_39471376437f46f3bdee70637e6a7a4d",
      "_model_module": "@jupyter-widgets/controls",
      "children": [
       "IPY_MODEL_d2af5916fa6e42ee9f1df818666ef230",
       "IPY_MODEL_f51d67e81dcb478399d21b0f62512bcb"
      ]
     }
    },
    "39471376437f46f3bdee70637e6a7a4d": {
     "model_module": "@jupyter-widgets/base",
     "model_name": "LayoutModel",
     "state": {
      "_view_name": "LayoutView",
      "grid_template_rows": null,
      "right": null,
      "justify_content": null,
      "_view_module": "@jupyter-widgets/base",
      "overflow": null,
      "_model_module_version": "1.2.0",
      "_view_count": null,
      "flex_flow": null,
      "width": null,
      "min_width": null,
      "border": null,
      "align_items": null,
      "bottom": null,
      "_model_module": "@jupyter-widgets/base",
      "top": null,
      "grid_column": null,
      "overflow_y": null,
      "overflow_x": null,
      "grid_auto_flow": null,
      "grid_area": null,
      "grid_template_columns": null,
      "flex": null,
      "_model_name": "LayoutModel",
      "justify_items": null,
      "grid_row": null,
      "max_height": null,
      "align_content": null,
      "visibility": null,
      "align_self": null,
      "height": null,
      "min_height": null,
      "padding": null,
      "grid_auto_rows": null,
      "grid_gap": null,
      "max_width": null,
      "order": null,
      "_view_module_version": "1.2.0",
      "grid_template_areas": null,
      "object_position": null,
      "object_fit": null,
      "grid_auto_columns": null,
      "margin": null,
      "display": null,
      "left": null
     }
    },
    "d2af5916fa6e42ee9f1df818666ef230": {
     "model_module": "@jupyter-widgets/controls",
     "model_name": "FloatProgressModel",
     "state": {
      "_view_name": "ProgressView",
      "style": "IPY_MODEL_2300fb5b21af4bde95fb94932806f2d4",
      "_dom_classes": [],
      "description": "Downloading: 100%",
      "_model_name": "FloatProgressModel",
      "bar_style": "success",
      "max": 29.0,
      "_view_module": "@jupyter-widgets/controls",
      "_model_module_version": "1.5.0",
      "value": 29.0,
      "_view_count": null,
      "_view_module_version": "1.5.0",
      "orientation": "horizontal",
      "min": 0.0,
      "description_tooltip": null,
      "_model_module": "@jupyter-widgets/controls",
      "layout": "IPY_MODEL_64ab78d981834b3c809b68ab447a6ff9"
     }
    },
    "f51d67e81dcb478399d21b0f62512bcb": {
     "model_module": "@jupyter-widgets/controls",
     "model_name": "HTMLModel",
     "state": {
      "_view_name": "HTMLView",
      "style": "IPY_MODEL_14ec7167e1b34fcfb3c2d5f85850d0c4",
      "_dom_classes": [],
      "description": "",
      "_model_name": "HTMLModel",
      "placeholder": "​",
      "_view_module": "@jupyter-widgets/controls",
      "_model_module_version": "1.5.0",
      "value": " 29.0/29.0 [00:00&lt;00:00, 48.3B/s]",
      "_view_count": null,
      "_view_module_version": "1.5.0",
      "description_tooltip": null,
      "_model_module": "@jupyter-widgets/controls",
      "layout": "IPY_MODEL_027f6a5155fb4195b63dafe50663d858"
     }
    },
    "2300fb5b21af4bde95fb94932806f2d4": {
     "model_module": "@jupyter-widgets/controls",
     "model_name": "ProgressStyleModel",
     "state": {
      "_view_name": "StyleView",
      "_model_name": "ProgressStyleModel",
      "description_width": "initial",
      "_view_module": "@jupyter-widgets/base",
      "_model_module_version": "1.5.0",
      "_view_count": null,
      "_view_module_version": "1.2.0",
      "bar_color": null,
      "_model_module": "@jupyter-widgets/controls"
     }
    },
    "64ab78d981834b3c809b68ab447a6ff9": {
     "model_module": "@jupyter-widgets/base",
     "model_name": "LayoutModel",
     "state": {
      "_view_name": "LayoutView",
      "grid_template_rows": null,
      "right": null,
      "justify_content": null,
      "_view_module": "@jupyter-widgets/base",
      "overflow": null,
      "_model_module_version": "1.2.0",
      "_view_count": null,
      "flex_flow": null,
      "width": null,
      "min_width": null,
      "border": null,
      "align_items": null,
      "bottom": null,
      "_model_module": "@jupyter-widgets/base",
      "top": null,
      "grid_column": null,
      "overflow_y": null,
      "overflow_x": null,
      "grid_auto_flow": null,
      "grid_area": null,
      "grid_template_columns": null,
      "flex": null,
      "_model_name": "LayoutModel",
      "justify_items": null,
      "grid_row": null,
      "max_height": null,
      "align_content": null,
      "visibility": null,
      "align_self": null,
      "height": null,
      "min_height": null,
      "padding": null,
      "grid_auto_rows": null,
      "grid_gap": null,
      "max_width": null,
      "order": null,
      "_view_module_version": "1.2.0",
      "grid_template_areas": null,
      "object_position": null,
      "object_fit": null,
      "grid_auto_columns": null,
      "margin": null,
      "display": null,
      "left": null
     }
    },
    "14ec7167e1b34fcfb3c2d5f85850d0c4": {
     "model_module": "@jupyter-widgets/controls",
     "model_name": "DescriptionStyleModel",
     "state": {
      "_view_name": "StyleView",
      "_model_name": "DescriptionStyleModel",
      "description_width": "",
      "_view_module": "@jupyter-widgets/base",
      "_model_module_version": "1.5.0",
      "_view_count": null,
      "_view_module_version": "1.2.0",
      "_model_module": "@jupyter-widgets/controls"
     }
    },
    "027f6a5155fb4195b63dafe50663d858": {
     "model_module": "@jupyter-widgets/base",
     "model_name": "LayoutModel",
     "state": {
      "_view_name": "LayoutView",
      "grid_template_rows": null,
      "right": null,
      "justify_content": null,
      "_view_module": "@jupyter-widgets/base",
      "overflow": null,
      "_model_module_version": "1.2.0",
      "_view_count": null,
      "flex_flow": null,
      "width": null,
      "min_width": null,
      "border": null,
      "align_items": null,
      "bottom": null,
      "_model_module": "@jupyter-widgets/base",
      "top": null,
      "grid_column": null,
      "overflow_y": null,
      "overflow_x": null,
      "grid_auto_flow": null,
      "grid_area": null,
      "grid_template_columns": null,
      "flex": null,
      "_model_name": "LayoutModel",
      "justify_items": null,
      "grid_row": null,
      "max_height": null,
      "align_content": null,
      "visibility": null,
      "align_self": null,
      "height": null,
      "min_height": null,
      "padding": null,
      "grid_auto_rows": null,
      "grid_gap": null,
      "max_width": null,
      "order": null,
      "_view_module_version": "1.2.0",
      "grid_template_areas": null,
      "object_position": null,
      "object_fit": null,
      "grid_auto_columns": null,
      "margin": null,
      "display": null,
      "left": null
     }
    },
    "b3158c257f9b4b779abc2feba17847a0": {
     "model_module": "@jupyter-widgets/controls",
     "model_name": "HBoxModel",
     "state": {
      "_view_name": "HBoxView",
      "_dom_classes": [],
      "_model_name": "HBoxModel",
      "_view_module": "@jupyter-widgets/controls",
      "_model_module_version": "1.5.0",
      "_view_count": null,
      "_view_module_version": "1.5.0",
      "box_style": "",
      "layout": "IPY_MODEL_a7e0f92794ba449fba79cc79b1c3919a",
      "_model_module": "@jupyter-widgets/controls",
      "children": [
       "IPY_MODEL_177b69c7dde54698881c7e465cbe7f9d",
       "IPY_MODEL_7cc4ae65f97549bb856fd3d1bae13e9a"
      ]
     }
    },
    "a7e0f92794ba449fba79cc79b1c3919a": {
     "model_module": "@jupyter-widgets/base",
     "model_name": "LayoutModel",
     "state": {
      "_view_name": "LayoutView",
      "grid_template_rows": null,
      "right": null,
      "justify_content": null,
      "_view_module": "@jupyter-widgets/base",
      "overflow": null,
      "_model_module_version": "1.2.0",
      "_view_count": null,
      "flex_flow": null,
      "width": null,
      "min_width": null,
      "border": null,
      "align_items": null,
      "bottom": null,
      "_model_module": "@jupyter-widgets/base",
      "top": null,
      "grid_column": null,
      "overflow_y": null,
      "overflow_x": null,
      "grid_auto_flow": null,
      "grid_area": null,
      "grid_template_columns": null,
      "flex": null,
      "_model_name": "LayoutModel",
      "justify_items": null,
      "grid_row": null,
      "max_height": null,
      "align_content": null,
      "visibility": null,
      "align_self": null,
      "height": null,
      "min_height": null,
      "padding": null,
      "grid_auto_rows": null,
      "grid_gap": null,
      "max_width": null,
      "order": null,
      "_view_module_version": "1.2.0",
      "grid_template_areas": null,
      "object_position": null,
      "object_fit": null,
      "grid_auto_columns": null,
      "margin": null,
      "display": null,
      "left": null
     }
    },
    "177b69c7dde54698881c7e465cbe7f9d": {
     "model_module": "@jupyter-widgets/controls",
     "model_name": "FloatProgressModel",
     "state": {
      "_view_name": "ProgressView",
      "style": "IPY_MODEL_16f5a1f5b6dd4ac4bd381811a82be838",
      "_dom_classes": [],
      "description": "Downloading: 100%",
      "_model_name": "FloatProgressModel",
      "bar_style": "success",
      "max": 435797.0,
      "_view_module": "@jupyter-widgets/controls",
      "_model_module_version": "1.5.0",
      "value": 435797.0,
      "_view_count": null,
      "_view_module_version": "1.5.0",
      "orientation": "horizontal",
      "min": 0.0,
      "description_tooltip": null,
      "_model_module": "@jupyter-widgets/controls",
      "layout": "IPY_MODEL_c4be0cc6f7624a31adeda286b55de2c6"
     }
    },
    "7cc4ae65f97549bb856fd3d1bae13e9a": {
     "model_module": "@jupyter-widgets/controls",
     "model_name": "HTMLModel",
     "state": {
      "_view_name": "HTMLView",
      "style": "IPY_MODEL_98310283ddbd4aa1856c3bc5845b73fa",
      "_dom_classes": [],
      "description": "",
      "_model_name": "HTMLModel",
      "placeholder": "​",
      "_view_module": "@jupyter-widgets/controls",
      "_model_module_version": "1.5.0",
      "value": " 436k/436k [00:00&lt;00:00, 954kB/s]",
      "_view_count": null,
      "_view_module_version": "1.5.0",
      "description_tooltip": null,
      "_model_module": "@jupyter-widgets/controls",
      "layout": "IPY_MODEL_42457ac9890749ad830054801fa158f3"
     }
    },
    "16f5a1f5b6dd4ac4bd381811a82be838": {
     "model_module": "@jupyter-widgets/controls",
     "model_name": "ProgressStyleModel",
     "state": {
      "_view_name": "StyleView",
      "_model_name": "ProgressStyleModel",
      "description_width": "initial",
      "_view_module": "@jupyter-widgets/base",
      "_model_module_version": "1.5.0",
      "_view_count": null,
      "_view_module_version": "1.2.0",
      "bar_color": null,
      "_model_module": "@jupyter-widgets/controls"
     }
    },
    "c4be0cc6f7624a31adeda286b55de2c6": {
     "model_module": "@jupyter-widgets/base",
     "model_name": "LayoutModel",
     "state": {
      "_view_name": "LayoutView",
      "grid_template_rows": null,
      "right": null,
      "justify_content": null,
      "_view_module": "@jupyter-widgets/base",
      "overflow": null,
      "_model_module_version": "1.2.0",
      "_view_count": null,
      "flex_flow": null,
      "width": null,
      "min_width": null,
      "border": null,
      "align_items": null,
      "bottom": null,
      "_model_module": "@jupyter-widgets/base",
      "top": null,
      "grid_column": null,
      "overflow_y": null,
      "overflow_x": null,
      "grid_auto_flow": null,
      "grid_area": null,
      "grid_template_columns": null,
      "flex": null,
      "_model_name": "LayoutModel",
      "justify_items": null,
      "grid_row": null,
      "max_height": null,
      "align_content": null,
      "visibility": null,
      "align_self": null,
      "height": null,
      "min_height": null,
      "padding": null,
      "grid_auto_rows": null,
      "grid_gap": null,
      "max_width": null,
      "order": null,
      "_view_module_version": "1.2.0",
      "grid_template_areas": null,
      "object_position": null,
      "object_fit": null,
      "grid_auto_columns": null,
      "margin": null,
      "display": null,
      "left": null
     }
    },
    "98310283ddbd4aa1856c3bc5845b73fa": {
     "model_module": "@jupyter-widgets/controls",
     "model_name": "DescriptionStyleModel",
     "state": {
      "_view_name": "StyleView",
      "_model_name": "DescriptionStyleModel",
      "description_width": "",
      "_view_module": "@jupyter-widgets/base",
      "_model_module_version": "1.5.0",
      "_view_count": null,
      "_view_module_version": "1.2.0",
      "_model_module": "@jupyter-widgets/controls"
     }
    },
    "42457ac9890749ad830054801fa158f3": {
     "model_module": "@jupyter-widgets/base",
     "model_name": "LayoutModel",
     "state": {
      "_view_name": "LayoutView",
      "grid_template_rows": null,
      "right": null,
      "justify_content": null,
      "_view_module": "@jupyter-widgets/base",
      "overflow": null,
      "_model_module_version": "1.2.0",
      "_view_count": null,
      "flex_flow": null,
      "width": null,
      "min_width": null,
      "border": null,
      "align_items": null,
      "bottom": null,
      "_model_module": "@jupyter-widgets/base",
      "top": null,
      "grid_column": null,
      "overflow_y": null,
      "overflow_x": null,
      "grid_auto_flow": null,
      "grid_area": null,
      "grid_template_columns": null,
      "flex": null,
      "_model_name": "LayoutModel",
      "justify_items": null,
      "grid_row": null,
      "max_height": null,
      "align_content": null,
      "visibility": null,
      "align_self": null,
      "height": null,
      "min_height": null,
      "padding": null,
      "grid_auto_rows": null,
      "grid_gap": null,
      "max_width": null,
      "order": null,
      "_view_module_version": "1.2.0",
      "grid_template_areas": null,
      "object_position": null,
      "object_fit": null,
      "grid_auto_columns": null,
      "margin": null,
      "display": null,
      "left": null
     }
    },
    "80437a37395947458559ce7e1535f02b": {
     "model_module": "@jupyter-widgets/controls",
     "model_name": "HBoxModel",
     "state": {
      "_view_name": "HBoxView",
      "_dom_classes": [],
      "_model_name": "HBoxModel",
      "_view_module": "@jupyter-widgets/controls",
      "_model_module_version": "1.5.0",
      "_view_count": null,
      "_view_module_version": "1.5.0",
      "box_style": "",
      "layout": "IPY_MODEL_ff04b06cc2934e0e8d46269b35ce1c42",
      "_model_module": "@jupyter-widgets/controls",
      "children": [
       "IPY_MODEL_901684ff9565450aa151105b5a48e6ff",
       "IPY_MODEL_6735d9423ec345c99d7054fbf6a60c00"
      ]
     }
    },
    "ff04b06cc2934e0e8d46269b35ce1c42": {
     "model_module": "@jupyter-widgets/base",
     "model_name": "LayoutModel",
     "state": {
      "_view_name": "LayoutView",
      "grid_template_rows": null,
      "right": null,
      "justify_content": null,
      "_view_module": "@jupyter-widgets/base",
      "overflow": null,
      "_model_module_version": "1.2.0",
      "_view_count": null,
      "flex_flow": null,
      "width": null,
      "min_width": null,
      "border": null,
      "align_items": null,
      "bottom": null,
      "_model_module": "@jupyter-widgets/base",
      "top": null,
      "grid_column": null,
      "overflow_y": null,
      "overflow_x": null,
      "grid_auto_flow": null,
      "grid_area": null,
      "grid_template_columns": null,
      "flex": null,
      "_model_name": "LayoutModel",
      "justify_items": null,
      "grid_row": null,
      "max_height": null,
      "align_content": null,
      "visibility": null,
      "align_self": null,
      "height": null,
      "min_height": null,
      "padding": null,
      "grid_auto_rows": null,
      "grid_gap": null,
      "max_width": null,
      "order": null,
      "_view_module_version": "1.2.0",
      "grid_template_areas": null,
      "object_position": null,
      "object_fit": null,
      "grid_auto_columns": null,
      "margin": null,
      "display": null,
      "left": null
     }
    },
    "901684ff9565450aa151105b5a48e6ff": {
     "model_module": "@jupyter-widgets/controls",
     "model_name": "FloatProgressModel",
     "state": {
      "_view_name": "ProgressView",
      "style": "IPY_MODEL_818d74f04d6645879b3b5c11108349cc",
      "_dom_classes": [],
      "description": "Downloading: 100%",
      "_model_name": "FloatProgressModel",
      "bar_style": "success",
      "max": 433.0,
      "_view_module": "@jupyter-widgets/controls",
      "_model_module_version": "1.5.0",
      "value": 433.0,
      "_view_count": null,
      "_view_module_version": "1.5.0",
      "orientation": "horizontal",
      "min": 0.0,
      "description_tooltip": null,
      "_model_module": "@jupyter-widgets/controls",
      "layout": "IPY_MODEL_e8ee1fadf698446984a96472dc385f8e"
     }
    },
    "6735d9423ec345c99d7054fbf6a60c00": {
     "model_module": "@jupyter-widgets/controls",
     "model_name": "HTMLModel",
     "state": {
      "_view_name": "HTMLView",
      "style": "IPY_MODEL_9b40a02aebcb4da2b2025492f1e3e01f",
      "_dom_classes": [],
      "description": "",
      "_model_name": "HTMLModel",
      "placeholder": "​",
      "_view_module": "@jupyter-widgets/controls",
      "_model_module_version": "1.5.0",
      "value": " 433/433 [00:08&lt;00:00, 53.0B/s]",
      "_view_count": null,
      "_view_module_version": "1.5.0",
      "description_tooltip": null,
      "_model_module": "@jupyter-widgets/controls",
      "layout": "IPY_MODEL_8a7e359ea5b94ea8930930b9ce9bb914"
     }
    },
    "818d74f04d6645879b3b5c11108349cc": {
     "model_module": "@jupyter-widgets/controls",
     "model_name": "ProgressStyleModel",
     "state": {
      "_view_name": "StyleView",
      "_model_name": "ProgressStyleModel",
      "description_width": "initial",
      "_view_module": "@jupyter-widgets/base",
      "_model_module_version": "1.5.0",
      "_view_count": null,
      "_view_module_version": "1.2.0",
      "bar_color": null,
      "_model_module": "@jupyter-widgets/controls"
     }
    },
    "e8ee1fadf698446984a96472dc385f8e": {
     "model_module": "@jupyter-widgets/base",
     "model_name": "LayoutModel",
     "state": {
      "_view_name": "LayoutView",
      "grid_template_rows": null,
      "right": null,
      "justify_content": null,
      "_view_module": "@jupyter-widgets/base",
      "overflow": null,
      "_model_module_version": "1.2.0",
      "_view_count": null,
      "flex_flow": null,
      "width": null,
      "min_width": null,
      "border": null,
      "align_items": null,
      "bottom": null,
      "_model_module": "@jupyter-widgets/base",
      "top": null,
      "grid_column": null,
      "overflow_y": null,
      "overflow_x": null,
      "grid_auto_flow": null,
      "grid_area": null,
      "grid_template_columns": null,
      "flex": null,
      "_model_name": "LayoutModel",
      "justify_items": null,
      "grid_row": null,
      "max_height": null,
      "align_content": null,
      "visibility": null,
      "align_self": null,
      "height": null,
      "min_height": null,
      "padding": null,
      "grid_auto_rows": null,
      "grid_gap": null,
      "max_width": null,
      "order": null,
      "_view_module_version": "1.2.0",
      "grid_template_areas": null,
      "object_position": null,
      "object_fit": null,
      "grid_auto_columns": null,
      "margin": null,
      "display": null,
      "left": null
     }
    },
    "9b40a02aebcb4da2b2025492f1e3e01f": {
     "model_module": "@jupyter-widgets/controls",
     "model_name": "DescriptionStyleModel",
     "state": {
      "_view_name": "StyleView",
      "_model_name": "DescriptionStyleModel",
      "description_width": "",
      "_view_module": "@jupyter-widgets/base",
      "_model_module_version": "1.5.0",
      "_view_count": null,
      "_view_module_version": "1.2.0",
      "_model_module": "@jupyter-widgets/controls"
     }
    },
    "8a7e359ea5b94ea8930930b9ce9bb914": {
     "model_module": "@jupyter-widgets/base",
     "model_name": "LayoutModel",
     "state": {
      "_view_name": "LayoutView",
      "grid_template_rows": null,
      "right": null,
      "justify_content": null,
      "_view_module": "@jupyter-widgets/base",
      "overflow": null,
      "_model_module_version": "1.2.0",
      "_view_count": null,
      "flex_flow": null,
      "width": null,
      "min_width": null,
      "border": null,
      "align_items": null,
      "bottom": null,
      "_model_module": "@jupyter-widgets/base",
      "top": null,
      "grid_column": null,
      "overflow_y": null,
      "overflow_x": null,
      "grid_auto_flow": null,
      "grid_area": null,
      "grid_template_columns": null,
      "flex": null,
      "_model_name": "LayoutModel",
      "justify_items": null,
      "grid_row": null,
      "max_height": null,
      "align_content": null,
      "visibility": null,
      "align_self": null,
      "height": null,
      "min_height": null,
      "padding": null,
      "grid_auto_rows": null,
      "grid_gap": null,
      "max_width": null,
      "order": null,
      "_view_module_version": "1.2.0",
      "grid_template_areas": null,
      "object_position": null,
      "object_fit": null,
      "grid_auto_columns": null,
      "margin": null,
      "display": null,
      "left": null
     }
    },
    "2c401b949360423fb44bf471980551c2": {
     "model_module": "@jupyter-widgets/controls",
     "model_name": "HBoxModel",
     "state": {
      "_view_name": "HBoxView",
      "_dom_classes": [],
      "_model_name": "HBoxModel",
      "_view_module": "@jupyter-widgets/controls",
      "_model_module_version": "1.5.0",
      "_view_count": null,
      "_view_module_version": "1.5.0",
      "box_style": "",
      "layout": "IPY_MODEL_b9170e4a72e649f5bb74a66394731fc1",
      "_model_module": "@jupyter-widgets/controls",
      "children": [
       "IPY_MODEL_b68dbe258de64c9d8b23a725bc916c76",
       "IPY_MODEL_af9b205dcaf147fdbb84e5e13539a985"
      ]
     }
    },
    "b9170e4a72e649f5bb74a66394731fc1": {
     "model_module": "@jupyter-widgets/base",
     "model_name": "LayoutModel",
     "state": {
      "_view_name": "LayoutView",
      "grid_template_rows": null,
      "right": null,
      "justify_content": null,
      "_view_module": "@jupyter-widgets/base",
      "overflow": null,
      "_model_module_version": "1.2.0",
      "_view_count": null,
      "flex_flow": null,
      "width": null,
      "min_width": null,
      "border": null,
      "align_items": null,
      "bottom": null,
      "_model_module": "@jupyter-widgets/base",
      "top": null,
      "grid_column": null,
      "overflow_y": null,
      "overflow_x": null,
      "grid_auto_flow": null,
      "grid_area": null,
      "grid_template_columns": null,
      "flex": null,
      "_model_name": "LayoutModel",
      "justify_items": null,
      "grid_row": null,
      "max_height": null,
      "align_content": null,
      "visibility": null,
      "align_self": null,
      "height": null,
      "min_height": null,
      "padding": null,
      "grid_auto_rows": null,
      "grid_gap": null,
      "max_width": null,
      "order": null,
      "_view_module_version": "1.2.0",
      "grid_template_areas": null,
      "object_position": null,
      "object_fit": null,
      "grid_auto_columns": null,
      "margin": null,
      "display": null,
      "left": null
     }
    },
    "b68dbe258de64c9d8b23a725bc916c76": {
     "model_module": "@jupyter-widgets/controls",
     "model_name": "FloatProgressModel",
     "state": {
      "_view_name": "ProgressView",
      "style": "IPY_MODEL_f866cf111e034784b324d5ee134b1baa",
      "_dom_classes": [],
      "description": "Downloading: 100%",
      "_model_name": "FloatProgressModel",
      "bar_style": "success",
      "max": 4.35779157E8,
      "_view_module": "@jupyter-widgets/controls",
      "_model_module_version": "1.5.0",
      "value": 4.35779157E8,
      "_view_count": null,
      "_view_module_version": "1.5.0",
      "orientation": "horizontal",
      "min": 0.0,
      "description_tooltip": null,
      "_model_module": "@jupyter-widgets/controls",
      "layout": "IPY_MODEL_7ac0acceefcb44d2a351568a1afc27c9"
     }
    },
    "af9b205dcaf147fdbb84e5e13539a985": {
     "model_module": "@jupyter-widgets/controls",
     "model_name": "HTMLModel",
     "state": {
      "_view_name": "HTMLView",
      "style": "IPY_MODEL_92e6781690aa44719cc5c3eb5752739a",
      "_dom_classes": [],
      "description": "",
      "_model_name": "HTMLModel",
      "placeholder": "​",
      "_view_module": "@jupyter-widgets/controls",
      "_model_module_version": "1.5.0",
      "value": " 436M/436M [00:07&lt;00:00, 55.9MB/s]",
      "_view_count": null,
      "_view_module_version": "1.5.0",
      "description_tooltip": null,
      "_model_module": "@jupyter-widgets/controls",
      "layout": "IPY_MODEL_f6c91b52762f4bbd8786358ec0aeb59e"
     }
    },
    "f866cf111e034784b324d5ee134b1baa": {
     "model_module": "@jupyter-widgets/controls",
     "model_name": "ProgressStyleModel",
     "state": {
      "_view_name": "StyleView",
      "_model_name": "ProgressStyleModel",
      "description_width": "initial",
      "_view_module": "@jupyter-widgets/base",
      "_model_module_version": "1.5.0",
      "_view_count": null,
      "_view_module_version": "1.2.0",
      "bar_color": null,
      "_model_module": "@jupyter-widgets/controls"
     }
    },
    "7ac0acceefcb44d2a351568a1afc27c9": {
     "model_module": "@jupyter-widgets/base",
     "model_name": "LayoutModel",
     "state": {
      "_view_name": "LayoutView",
      "grid_template_rows": null,
      "right": null,
      "justify_content": null,
      "_view_module": "@jupyter-widgets/base",
      "overflow": null,
      "_model_module_version": "1.2.0",
      "_view_count": null,
      "flex_flow": null,
      "width": null,
      "min_width": null,
      "border": null,
      "align_items": null,
      "bottom": null,
      "_model_module": "@jupyter-widgets/base",
      "top": null,
      "grid_column": null,
      "overflow_y": null,
      "overflow_x": null,
      "grid_auto_flow": null,
      "grid_area": null,
      "grid_template_columns": null,
      "flex": null,
      "_model_name": "LayoutModel",
      "justify_items": null,
      "grid_row": null,
      "max_height": null,
      "align_content": null,
      "visibility": null,
      "align_self": null,
      "height": null,
      "min_height": null,
      "padding": null,
      "grid_auto_rows": null,
      "grid_gap": null,
      "max_width": null,
      "order": null,
      "_view_module_version": "1.2.0",
      "grid_template_areas": null,
      "object_position": null,
      "object_fit": null,
      "grid_auto_columns": null,
      "margin": null,
      "display": null,
      "left": null
     }
    },
    "92e6781690aa44719cc5c3eb5752739a": {
     "model_module": "@jupyter-widgets/controls",
     "model_name": "DescriptionStyleModel",
     "state": {
      "_view_name": "StyleView",
      "_model_name": "DescriptionStyleModel",
      "description_width": "",
      "_view_module": "@jupyter-widgets/base",
      "_model_module_version": "1.5.0",
      "_view_count": null,
      "_view_module_version": "1.2.0",
      "_model_module": "@jupyter-widgets/controls"
     }
    },
    "f6c91b52762f4bbd8786358ec0aeb59e": {
     "model_module": "@jupyter-widgets/base",
     "model_name": "LayoutModel",
     "state": {
      "_view_name": "LayoutView",
      "grid_template_rows": null,
      "right": null,
      "justify_content": null,
      "_view_module": "@jupyter-widgets/base",
      "overflow": null,
      "_model_module_version": "1.2.0",
      "_view_count": null,
      "flex_flow": null,
      "width": null,
      "min_width": null,
      "border": null,
      "align_items": null,
      "bottom": null,
      "_model_module": "@jupyter-widgets/base",
      "top": null,
      "grid_column": null,
      "overflow_y": null,
      "overflow_x": null,
      "grid_auto_flow": null,
      "grid_area": null,
      "grid_template_columns": null,
      "flex": null,
      "_model_name": "LayoutModel",
      "justify_items": null,
      "grid_row": null,
      "max_height": null,
      "align_content": null,
      "visibility": null,
      "align_self": null,
      "height": null,
      "min_height": null,
      "padding": null,
      "grid_auto_rows": null,
      "grid_gap": null,
      "max_width": null,
      "order": null,
      "_view_module_version": "1.2.0",
      "grid_template_areas": null,
      "object_position": null,
      "object_fit": null,
      "grid_auto_columns": null,
      "margin": null,
      "display": null,
      "left": null
     }
    }
   }
  }
 },
 "nbformat": 4,
 "nbformat_minor": 0
}
